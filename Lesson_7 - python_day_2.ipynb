{
 "cells": [
  {
   "cell_type": "code",
   "execution_count": 31,
   "metadata": {
    "collapsed": true
   },
   "outputs": [],
   "source": [
    "#Setup\n",
    "%matplotlib inline\n",
    "import numpy as np"
   ]
  },
  {
   "cell_type": "code",
   "execution_count": 32,
   "metadata": {
    "collapsed": false
   },
   "outputs": [
    {
     "data": {
      "text/plain": [
       "'C:\\\\Users\\\\Dana\\\\Desktop\\\\python-novice-inflammation\\\\temperature'"
      ]
     },
     "execution_count": 32,
     "metadata": {},
     "output_type": "execute_result"
    }
   ],
   "source": [
    "# Changing the working directory\n",
    "# Because I'd opened this notebook from another location\n",
    "import os\n",
    "os.getcwd()"
   ]
  },
  {
   "cell_type": "code",
   "execution_count": 33,
   "metadata": {
    "collapsed": true
   },
   "outputs": [],
   "source": [
    "os.chdir('C:/Users/Dana/Desktop/python-novice-inflammation/temperature/')"
   ]
  },
  {
   "cell_type": "code",
   "execution_count": 34,
   "metadata": {
    "collapsed": false
   },
   "outputs": [
    {
     "data": {
      "text/plain": [
       "'C:\\\\Users\\\\Dana\\\\Desktop\\\\python-novice-inflammation\\\\temperature'"
      ]
     },
     "execution_count": 34,
     "metadata": {},
     "output_type": "execute_result"
    }
   ],
   "source": [
    "os.getcwd()"
   ]
  },
  {
   "cell_type": "code",
   "execution_count": 35,
   "metadata": {
    "collapsed": false
   },
   "outputs": [
    {
     "name": "stdout",
     "output_type": "stream",
     "text": [
      " Volume in drive C is Windows7_OS\n",
      " Volume Serial Number is 8CDB-313E\n",
      "\n",
      " Directory of C:\\Users\\Dana\\Desktop\\python-novice-inflammation\\temperature\n",
      "\n",
      "07/27/2017  08:56 AM    <DIR>          .\n",
      "07/27/2017  08:56 AM    <DIR>          ..\n",
      "07/27/2017  08:56 AM             5,711 barrow.temperature.csv\n",
      "07/27/2017  08:56 AM             5,712 key_west.temperature.csv\n",
      "07/27/2017  08:56 AM             5,714 land_o_lakes.temperature.csv\n",
      "07/27/2017  08:56 AM             5,719 reston.temperature.csv\n",
      "07/27/2017  08:56 AM             5,731 wvu.temperature.csv\n",
      "               5 File(s)         28,587 bytes\n",
      "               2 Dir(s)  283,686,670,336 bytes free\n"
     ]
    }
   ],
   "source": [
    "ls"
   ]
  },
  {
   "cell_type": "code",
   "execution_count": 90,
   "metadata": {
    "collapsed": false
   },
   "outputs": [
    {
     "ename": "SyntaxError",
     "evalue": "invalid syntax (<ipython-input-90-d0fd68168d88>, line 1)",
     "output_type": "error",
     "traceback": [
      "\u001b[0;36m  File \u001b[0;32m\"<ipython-input-90-d0fd68168d88>\"\u001b[0;36m, line \u001b[0;32m1\u001b[0m\n\u001b[0;31m    nano myfile.txt\u001b[0m\n\u001b[0m              ^\u001b[0m\n\u001b[0;31mSyntaxError\u001b[0m\u001b[0;31m:\u001b[0m invalid syntax\n"
     ]
    }
   ],
   "source": []
  },
  {
   "cell_type": "code",
   "execution_count": 36,
   "metadata": {
    "collapsed": false
   },
   "outputs": [
    {
     "name": "stdout",
     "output_type": "stream",
     "text": [
      "red\n",
      "green\n",
      "blue\n"
     ]
    }
   ],
   "source": [
    "#Doing the same thing with two different data structures\n",
    "\n",
    "for color in ['red', 'green', 'blue'] :\n",
    "    print color"
   ]
  },
  {
   "cell_type": "code",
   "execution_count": 37,
   "metadata": {
    "collapsed": true
   },
   "outputs": [],
   "source": [
    "def kelvin_to_celcius(temp_k): #these are called positional arguments\n",
    "    return temp_k - 273.15"
   ]
  },
  {
   "cell_type": "code",
   "execution_count": 38,
   "metadata": {
    "collapsed": false
   },
   "outputs": [
    {
     "name": "stdout",
     "output_type": "stream",
     "text": [
      "Passed\n",
      "Passed\n"
     ]
    }
   ],
   "source": [
    "#Two simple tests\n",
    "if kelvin_to_celcius(273.15) == 0:\n",
    "    print ('Passed')\n",
    "if kelvin_to_celcius(373.15) == 100:\n",
    "    print ('Passed')"
   ]
  },
  {
   "cell_type": "code",
   "execution_count": 39,
   "metadata": {
    "collapsed": true
   },
   "outputs": [],
   "source": [
    "#what if you remove the return statement - no output? \n",
    "def kelvin_to_celcius(temp_k):\n",
    "    print(temp_k)\n",
    "    temp_k - 273.15"
   ]
  },
  {
   "cell_type": "code",
   "execution_count": 40,
   "metadata": {
    "collapsed": false
   },
   "outputs": [
    {
     "name": "stdout",
     "output_type": "stream",
     "text": [
      "273.15\n",
      "373.15\n"
     ]
    }
   ],
   "source": [
    "#Function still does something, but tests don't pass\n",
    "if kelvin_to_celcius(273.15) == 0:\n",
    "    print ('Passed')\n",
    "if kelvin_to_celcius(373.15) == 100:\n",
    "    print ('Passed')"
   ]
  },
  {
   "cell_type": "code",
   "execution_count": 41,
   "metadata": {
    "collapsed": true
   },
   "outputs": [],
   "source": [
    "# There can be cases where a function doens't return anything\n",
    "# eg opening a connection to a database\n",
    "\n",
    "#What if the print statement is after the return statement?\n",
    "#Won't be evaluated\n",
    "\n",
    "def kelvin_to_celcius(temp_k):\n",
    "    return temp_k - 273.15\n",
    "    print(temp_k)"
   ]
  },
  {
   "cell_type": "code",
   "execution_count": 42,
   "metadata": {
    "collapsed": false
   },
   "outputs": [],
   "source": [
    "def kelvin_to_celcius(temp_k):\n",
    "    if temp_k > 0:\n",
    "        return temp_k - 273.15\n",
    "    \n",
    "    else:                       #the else is extraneous here \n",
    "        print(temp_k)"
   ]
  },
  {
   "cell_type": "code",
   "execution_count": 43,
   "metadata": {
    "collapsed": true
   },
   "outputs": [],
   "source": [
    "def celsius_to_fahr(temp_c):\n",
    "    return(temp_c * (9.0/5)) + 32"
   ]
  },
  {
   "cell_type": "code",
   "execution_count": 44,
   "metadata": {
    "collapsed": false
   },
   "outputs": [],
   "source": [
    "#composing functions more readable than chaining\n",
    "\n",
    "def kelvin_to_fahr(temp_k):\n",
    "    temp_c = kelvin_to_celcius(temp_k)\n",
    "    return celsius_to_fahr(temp_c)\n"
   ]
  },
  {
   "cell_type": "code",
   "execution_count": 45,
   "metadata": {
    "collapsed": false
   },
   "outputs": [
    {
     "data": {
      "text/plain": [
       "80.33000000000004"
      ]
     },
     "execution_count": 45,
     "metadata": {},
     "output_type": "execute_result"
    }
   ],
   "source": [
    "kelvin_to_fahr(300)"
   ]
  },
  {
   "cell_type": "code",
   "execution_count": 46,
   "metadata": {
    "collapsed": false
   },
   "outputs": [
    {
     "data": {
      "text/plain": [
       "80.33000000000004"
      ]
     },
     "execution_count": 46,
     "metadata": {},
     "output_type": "execute_result"
    }
   ],
   "source": [
    "#This is an example of chaining\n",
    "celsius_to_fahr(kelvin_to_celcius(300))"
   ]
  },
  {
   "cell_type": "code",
   "execution_count": 47,
   "metadata": {
    "collapsed": false
   },
   "outputs": [
    {
     "data": {
      "text/plain": [
       "(69L, 12L)"
      ]
     },
     "execution_count": 47,
     "metadata": {},
     "output_type": "execute_result"
    }
   ],
   "source": [
    "data = np.loadtxt('barrow.temperature.csv', delimiter = ',')\n",
    "data.shape"
   ]
  },
  {
   "cell_type": "code",
   "execution_count": 54,
   "metadata": {
    "collapsed": true
   },
   "outputs": [],
   "source": [
    "#Create a function to plot temperature anomalies\n",
    "#If no axis is provided, will compute global mean\n",
    "\n",
    "def temperature_anomaly(temp_array):\n",
    "    return temp_array.mean(axis = 1) - temp_array.mean()"
   ]
  },
  {
   "cell_type": "code",
   "execution_count": 55,
   "metadata": {
    "collapsed": false
   },
   "outputs": [
    {
     "data": {
      "text/plain": [
       "True"
      ]
     },
     "execution_count": 55,
     "metadata": {},
     "output_type": "execute_result"
    }
   ],
   "source": [
    "#two ways to calculate mean\n",
    "data.mean(axis = 1).shape == np.mean(data, axis =1).shape"
   ]
  },
  {
   "cell_type": "code",
   "execution_count": 56,
   "metadata": {
    "collapsed": false
   },
   "outputs": [
    {
     "data": {
      "text/plain": [
       "True"
      ]
     },
     "execution_count": 56,
     "metadata": {},
     "output_type": "execute_result"
    }
   ],
   "source": [
    "# Checking if every element if two arrays are equal\n",
    "np.all(np.equal(data.mean(axis = 1), np.mean(data, axis =1)))"
   ]
  },
  {
   "cell_type": "code",
   "execution_count": 57,
   "metadata": {
    "collapsed": false
   },
   "outputs": [
    {
     "data": {
      "text/plain": [
       "260.19"
      ]
     },
     "execution_count": 57,
     "metadata": {},
     "output_type": "execute_result"
    }
   ],
   "source": [
    "#Median is defined in the numpy module but is not a function array owns\n",
    "#Similarly, lists don't have a mean function built in\n",
    "np.median(data)"
   ]
  },
  {
   "cell_type": "code",
   "execution_count": 58,
   "metadata": {
    "collapsed": false
   },
   "outputs": [
    {
     "data": {
      "text/plain": [
       "array([-2.03457754, -0.20041087,  0.87542246, -0.33541087, -1.34541087,\n",
       "       -1.3962442 , -0.38041087, -2.4687442 , -2.1787442 ,  0.1112558 ,\n",
       "        0.3212558 , -1.55541087, -0.77041087, -1.48457754,  0.8837558 ,\n",
       "       -0.01457754, -2.6862442 , -0.86957754, -1.32291087,  0.06208913,\n",
       "       -0.4612442 , -0.4437442 , -1.5212442 , -1.96791087, -0.72457754,\n",
       "       -0.1537442 , -2.47041087, -2.24957754, -0.77041087,  0.1712558 ,\n",
       "        0.45958913,  0.83709746, -0.6062442 ,  0.66292246, -1.06957754,\n",
       "       -1.4712442 , -2.7512442 , -0.6087442 , -0.0387442 , -0.3562442 ,\n",
       "       -0.95291087,  1.02958913, -0.32041087, -0.78957754, -0.4012442 ,\n",
       "        1.5962558 , -0.67541087,  0.63208913,  0.30458913,  0.84292246,\n",
       "        2.75792246, -0.1787442 ,  0.41208913,  0.5037558 ,  2.0312558 ,\n",
       "        1.6087558 ,  1.48292246,  1.7587558 ,  1.3237558 ,  2.32709746,\n",
       "        1.0287558 ,  1.30208913,  1.85792246,  1.61208913,  0.67542246,\n",
       "        1.74542246,  2.80958913,  2.2487558 ,  3.75042246])"
      ]
     },
     "execution_count": 58,
     "metadata": {},
     "output_type": "execute_result"
    }
   ],
   "source": [
    "temperature_anomaly(data)"
   ]
  },
  {
   "cell_type": "code",
   "execution_count": 59,
   "metadata": {
    "collapsed": true
   },
   "outputs": [],
   "source": [
    "#'as' is neccesary so that you don't have to call it by full name of matplotlib.pyplot\n",
    "import matplotlib.pyplot as pyplot"
   ]
  },
  {
   "cell_type": "code",
   "execution_count": 63,
   "metadata": {
    "collapsed": false
   },
   "outputs": [
    {
     "data": {
      "image/png": "[encoded data removed]",
      "text/plain": [
       "<matplotlib.figure.Figure at 0x833e940>"
      ]
     },
     "metadata": {},
     "output_type": "display_data"
    }
   ],
   "source": [
    "pyplot.plot(temperature_anomaly(data))\n",
    "pyplot.ylabel('Degrees celcius')\n",
    "pyplot.xlabel('Years')\n",
    "pyplot.title (' Temperature anomaly for Barrow, AK')\n",
    "pyplot.show()"
   ]
  },
  {
   "cell_type": "code",
   "execution_count": 64,
   "metadata": {
    "collapsed": false
   },
   "outputs": [
    {
     "ename": "IndentationError",
     "evalue": "expected an indented block (<ipython-input-64-4a26757e8bcc>, line 2)",
     "output_type": "error",
     "traceback": [
      "\u001b[0;36m  File \u001b[0;32m\"<ipython-input-64-4a26757e8bcc>\"\u001b[0;36m, line \u001b[0;32m2\u001b[0m\n\u001b[0;31m    \u001b[0m\n\u001b[0m    ^\u001b[0m\n\u001b[0;31mIndentationError\u001b[0m\u001b[0;31m:\u001b[0m expected an indented block\n"
     ]
    }
   ],
   "source": [
    "\n",
    "    "
   ]
  },
  {
   "cell_type": "code",
   "execution_count": 67,
   "metadata": {
    "collapsed": false
   },
   "outputs": [
    {
     "name": "stdout",
     "output_type": "stream",
     "text": [
      "Nothing!\n"
     ]
    }
   ],
   "source": [
    "#Testing for None\n",
    "foo = None\n",
    "if foo is None:\n",
    "    print('Nothing!')"
   ]
  },
  {
   "cell_type": "code",
   "execution_count": 68,
   "metadata": {
    "collapsed": false
   },
   "outputs": [
    {
     "ename": "SyntaxError",
     "evalue": "invalid syntax (<ipython-input-68-eb72bcdb63f3>, line 1)",
     "output_type": "error",
     "traceback": [
      "\u001b[0;36m  File \u001b[0;32m\"<ipython-input-68-eb72bcdb63f3>\"\u001b[0;36m, line \u001b[0;32m1\u001b[0m\n\u001b[0;31m    if foo\u001b[0m\n\u001b[0m          ^\u001b[0m\n\u001b[0;31mSyntaxError\u001b[0m\u001b[0;31m:\u001b[0m invalid syntax\n"
     ]
    }
   ],
   "source": [
    "if foo\n",
    "    print('Nothing!')\n",
    "bar = False\n",
    "\n",
    "if bar:\n",
    "    print('Truthy!')\n",
    "    \n",
    "bar = ''    \n",
    "if bar:\n",
    "    print('Truthy') #arrays that don't have contents\n",
    "    \n",
    "bar = []\n",
    "if bar: \n",
    "    print('Truthy')\n",
    "    \n",
    "#truthy means eg a dataframe has data aassociated with it "
   ]
  },
  {
   "cell_type": "code",
   "execution_count": 75,
   "metadata": {
    "collapsed": true
   },
   "outputs": [],
   "source": [
    "\n",
    "def temperature_anomaly (temp_array, long_term_avg = None ):\n",
    "    #Test to check if someone supplied a long term average\n",
    "    if long_term_avg is not None:\n",
    "        return temp_array.mean(axis = 1) - long_term_avg\n",
    "    \n",
    "    else:\n",
    "        return temp_array.mean(axis = 1) - temp_array.mean()"
   ]
  },
  {
   "cell_type": "code",
   "execution_count": 77,
   "metadata": {
    "collapsed": false
   },
   "outputs": [
    {
     "data": {
      "text/plain": [
       "<function matplotlib.pyplot.show>"
      ]
     },
     "execution_count": 77,
     "metadata": {},
     "output_type": "execute_result"
    },
    {
     "data": {
      "image/png": "[encoded data removed]",
      "text/plain": [
       "<matplotlib.figure.Figure at 0x7d11c88>"
      ]
     },
     "metadata": {},
     "output_type": "display_data"
    }
   ],
   "source": [
    "#Confirm that we can make the same plot\n",
    "pyplot.plot(temperature_anomaly(data))\n",
    "pyplot.ylabel('Degrees celcius')\n",
    "pyplot.xlabel('Years')\n",
    "pyplot.title (' Temperature anomaly for Barrow, AK')\n",
    "pyplot.show"
   ]
  },
  {
   "cell_type": "code",
   "execution_count": 78,
   "metadata": {
    "collapsed": true
   },
   "outputs": [],
   "source": [
    "#None is special, but not a special meaning with default args\n",
    "#Here is an equivilent function that is called and used differently\n",
    "#However it's a bad deisgn pattern\n",
    "#Because the the second argument is either the string 'mean' or a number\n",
    "\n",
    "def temperature_anomaly (temp_array, long_term_avg = 'mean' ):\n",
    "    #Test to check if someone supplied a long term average\n",
    "    if long_term_avg == 'mean':\n",
    "        return temp_array.mean(axis = 1) - long_term.mean()\n",
    "    \n",
    "    else:\n",
    "        return temp_array.mean(axis = 1) - long_term_avg\n",
    "    \n"
   ]
  },
  {
   "cell_type": "code",
   "execution_count": 84,
   "metadata": {
    "collapsed": false
   },
   "outputs": [],
   "source": [
    "#Question\n",
    "#A more pedantic way of writing the same function\n",
    "def temperature_anomaly (temp_array, use_custom_avg = False, custom_avg = None):\n",
    "    #Test to check if someone supplied a long term average\n",
    "    if use_custom_avg == False:\n",
    "        return temp_array.mean(axis = 1) - long_term.mean()\n",
    "    \n",
    "    else:\n",
    "        return temp_array.mean(axis = 1) - custom_avg"
   ]
  },
  {
   "cell_type": "code",
   "execution_count": 80,
   "metadata": {
    "collapsed": false
   },
   "outputs": [
    {
     "name": "stderr",
     "output_type": "stream",
     "text": [
      "C:\\Users\\Dana\\Anaconda2\\lib\\site-packages\\ipykernel\\__main__.py:8: FutureWarning: elementwise comparison failed; returning scalar instead, but in the future will perform elementwise comparison\n"
     ]
    },
    {
     "ename": "IndexError",
     "evalue": "tuple index out of range",
     "output_type": "error",
     "traceback": [
      "\u001b[0;31m---------------------------------------------------------------------------\u001b[0m",
      "\u001b[0;31mIndexError\u001b[0m                                Traceback (most recent call last)",
      "\u001b[0;32m<ipython-input-80-14eb11d34d7d>\u001b[0m in \u001b[0;36m<module>\u001b[0;34m()\u001b[0m\n\u001b[1;32m      1\u001b[0m \u001b[1;31m#If you try to run\u001b[0m\u001b[1;33m\u001b[0m\u001b[1;33m\u001b[0m\u001b[0m\n\u001b[0;32m----> 2\u001b[0;31m \u001b[0mtemperature_anomaly\u001b[0m\u001b[1;33m(\u001b[0m\u001b[0mnp\u001b[0m\u001b[1;33m.\u001b[0m\u001b[0mmedian\u001b[0m\u001b[1;33m(\u001b[0m\u001b[0mdata\u001b[0m\u001b[1;33m)\u001b[0m\u001b[1;33m,\u001b[0m \u001b[0mdata\u001b[0m\u001b[1;33m)\u001b[0m\u001b[1;33m\u001b[0m\u001b[0m\n\u001b[0m\u001b[1;32m      3\u001b[0m \u001b[1;31m# will get error, not because terms are switched,\u001b[0m\u001b[1;33m\u001b[0m\u001b[1;33m\u001b[0m\u001b[0m\n\u001b[1;32m      4\u001b[0m \u001b[1;31m# but because first term is not an array\u001b[0m\u001b[1;33m\u001b[0m\u001b[1;33m\u001b[0m\u001b[0m\n",
      "\u001b[0;32m<ipython-input-78-bbdef85c5596>\u001b[0m in \u001b[0;36mtemperature_anomaly\u001b[0;34m(temp_array, long_term_avg)\u001b[0m\n\u001b[1;32m     10\u001b[0m \u001b[1;33m\u001b[0m\u001b[0m\n\u001b[1;32m     11\u001b[0m     \u001b[1;32melse\u001b[0m\u001b[1;33m:\u001b[0m\u001b[1;33m\u001b[0m\u001b[0m\n\u001b[0;32m---> 12\u001b[0;31m         \u001b[1;32mreturn\u001b[0m \u001b[0mtemp_array\u001b[0m\u001b[1;33m.\u001b[0m\u001b[0mmean\u001b[0m\u001b[1;33m(\u001b[0m\u001b[0maxis\u001b[0m \u001b[1;33m=\u001b[0m \u001b[1;36m1\u001b[0m\u001b[1;33m)\u001b[0m \u001b[1;33m-\u001b[0m \u001b[0mlong_term_avg\u001b[0m\u001b[1;33m\u001b[0m\u001b[0m\n\u001b[0m\u001b[1;32m     13\u001b[0m \u001b[1;33m\u001b[0m\u001b[0m\n",
      "\u001b[0;32mC:\\Users\\Dana\\Anaconda2\\lib\\site-packages\\numpy\\core\\_methods.pyc\u001b[0m in \u001b[0;36m_mean\u001b[0;34m(a, axis, dtype, out, keepdims)\u001b[0m\n\u001b[1;32m     55\u001b[0m \u001b[1;33m\u001b[0m\u001b[0m\n\u001b[1;32m     56\u001b[0m     \u001b[0mis_float16_result\u001b[0m \u001b[1;33m=\u001b[0m \u001b[0mFalse\u001b[0m\u001b[1;33m\u001b[0m\u001b[0m\n\u001b[0;32m---> 57\u001b[0;31m     \u001b[0mrcount\u001b[0m \u001b[1;33m=\u001b[0m \u001b[0m_count_reduce_items\u001b[0m\u001b[1;33m(\u001b[0m\u001b[0marr\u001b[0m\u001b[1;33m,\u001b[0m \u001b[0maxis\u001b[0m\u001b[1;33m)\u001b[0m\u001b[1;33m\u001b[0m\u001b[0m\n\u001b[0m\u001b[1;32m     58\u001b[0m     \u001b[1;31m# Make this warning show up first\u001b[0m\u001b[1;33m\u001b[0m\u001b[1;33m\u001b[0m\u001b[0m\n\u001b[1;32m     59\u001b[0m     \u001b[1;32mif\u001b[0m \u001b[0mrcount\u001b[0m \u001b[1;33m==\u001b[0m \u001b[1;36m0\u001b[0m\u001b[1;33m:\u001b[0m\u001b[1;33m\u001b[0m\u001b[0m\n",
      "\u001b[0;32mC:\\Users\\Dana\\Anaconda2\\lib\\site-packages\\numpy\\core\\_methods.pyc\u001b[0m in \u001b[0;36m_count_reduce_items\u001b[0;34m(arr, axis)\u001b[0m\n\u001b[1;32m     48\u001b[0m     \u001b[0mitems\u001b[0m \u001b[1;33m=\u001b[0m \u001b[1;36m1\u001b[0m\u001b[1;33m\u001b[0m\u001b[0m\n\u001b[1;32m     49\u001b[0m     \u001b[1;32mfor\u001b[0m \u001b[0max\u001b[0m \u001b[1;32min\u001b[0m \u001b[0maxis\u001b[0m\u001b[1;33m:\u001b[0m\u001b[1;33m\u001b[0m\u001b[0m\n\u001b[0;32m---> 50\u001b[0;31m         \u001b[0mitems\u001b[0m \u001b[1;33m*=\u001b[0m \u001b[0marr\u001b[0m\u001b[1;33m.\u001b[0m\u001b[0mshape\u001b[0m\u001b[1;33m[\u001b[0m\u001b[0max\u001b[0m\u001b[1;33m]\u001b[0m\u001b[1;33m\u001b[0m\u001b[0m\n\u001b[0m\u001b[1;32m     51\u001b[0m     \u001b[1;32mreturn\u001b[0m \u001b[0mitems\u001b[0m\u001b[1;33m\u001b[0m\u001b[0m\n\u001b[1;32m     52\u001b[0m \u001b[1;33m\u001b[0m\u001b[0m\n",
      "\u001b[0;31mIndexError\u001b[0m: tuple index out of range"
     ]
    }
   ],
   "source": [
    "#If you try to run\n",
    "temperature_anomaly(np.median(data), data)\n",
    "# will get error, not because terms are switched,\n",
    "# but because first term is not an array"
   ]
  },
  {
   "cell_type": "code",
   "execution_count": 81,
   "metadata": {
    "collapsed": false
   },
   "outputs": [
    {
     "data": {
      "text/plain": [
       "array([-1.14      ,  0.69416667,  1.77      ,  0.55916667, -0.45083333,\n",
       "       -0.50166667,  0.51416667, -1.57416667, -1.28416667,  1.00583333,\n",
       "        1.21583333, -0.66083333,  0.12416667, -0.59      ,  1.77833333,\n",
       "        0.88      , -1.79166667,  0.025     , -0.42833333,  0.95666667,\n",
       "        0.43333333,  0.45083333, -0.62666667, -1.07333333,  0.17      ,\n",
       "        0.74083333, -1.57583333, -1.355     ,  0.12416667,  1.06583333,\n",
       "        1.35416667,  1.731675  ,  0.28833333,  1.5575    , -0.175     ,\n",
       "       -0.57666667, -1.85666667,  0.28583333,  0.85583333,  0.53833333,\n",
       "       -0.05833333,  1.92416667,  0.57416667,  0.105     ,  0.49333333,\n",
       "        2.49083333,  0.21916667,  1.52666667,  1.19916667,  1.7375    ,\n",
       "        3.6525    ,  0.71583333,  1.30666667,  1.39833333,  2.92583333,\n",
       "        2.50333333,  2.3775    ,  2.65333333,  2.21833333,  3.221675  ,\n",
       "        1.92333333,  2.19666667,  2.7525    ,  2.50666667,  1.57      ,\n",
       "        2.64      ,  3.70416667,  3.14333333,  4.645     ])"
      ]
     },
     "execution_count": 81,
     "metadata": {},
     "output_type": "execute_result"
    }
   ],
   "source": [
    "# Can call function with keyword arguments explicitly\n",
    "# and then can change order in which they are called\n",
    "# This is useful when you have a lot of arguments\n",
    "\n",
    "temperature_anomaly(long_term_avg= np.median(data), temp_array = data)"
   ]
  },
  {
   "cell_type": "code",
   "execution_count": 85,
   "metadata": {
    "collapsed": false
   },
   "outputs": [],
   "source": [
    "\n",
    "def temperature_anomaly (temp_array, all_fine = True, long_term_avg = None ):\n",
    "    #Test to check if someone supplied a long term average\n",
    "    if all_fine == False:\n",
    "        return \"Something's not ok!\"\n",
    "    if long_term_avg is not None:\n",
    "        return temp_array.mean(axis = 1) - long_term_avg\n",
    "    \n",
    "    else:\n",
    "        return temp_array.mean(axis = 1) - temp_array.mean()\n"
   ]
  },
  {
   "cell_type": "markdown",
   "metadata": {},
   "source": [
    "##### Positional vs keyword arguments challenge"
   ]
  },
  {
   "cell_type": "code",
   "execution_count": 92,
   "metadata": {
    "collapsed": false
   },
   "outputs": [
    {
     "data": {
      "text/plain": [
       "array([0, 0, 0, 0, 0, 0, 0, 0, 0, 0])"
      ]
     },
     "execution_count": 92,
     "metadata": {},
     "output_type": "execute_result"
    }
   ],
   "source": [
    "#Is ok\n",
    "np.zeros(10, np.int)"
   ]
  },
  {
   "cell_type": "code",
   "execution_count": 93,
   "metadata": {
    "collapsed": false
   },
   "outputs": [
    {
     "data": {
      "text/plain": [
       "array([0, 0, 0, 0, 0, 0, 0, 0, 0, 0])"
      ]
     },
     "execution_count": 93,
     "metadata": {},
     "output_type": "execute_result"
    }
   ],
   "source": [
    "# Keyword arguments can appear anywhere EXCEPT before positional arguments\n",
    "#This works too -  unambiguous because 10 is the first argument\n",
    "np.zeros(10, dtype = np.int)"
   ]
  },
  {
   "cell_type": "code",
   "execution_count": 87,
   "metadata": {
    "collapsed": false
   },
   "outputs": [
    {
     "ename": "SyntaxError",
     "evalue": "non-keyword arg after keyword arg (<ipython-input-87-c0d528c8b391>, line 1)",
     "output_type": "error",
     "traceback": [
      "\u001b[0;36m  File \u001b[0;32m\"<ipython-input-87-c0d528c8b391>\"\u001b[0;36m, line \u001b[0;32m1\u001b[0m\n\u001b[0;31m    np.zeros(dtype = np.int, 10)\u001b[0m\n\u001b[0;31mSyntaxError\u001b[0m\u001b[0;31m:\u001b[0m non-keyword arg after keyword arg\n"
     ]
    }
   ],
   "source": [
    "np.zeros(dtype = np.int, 10)"
   ]
  },
  {
   "cell_type": "code",
   "execution_count": 94,
   "metadata": {
    "collapsed": false
   },
   "outputs": [
    {
     "data": {
      "text/plain": [
       "array([0, 0, 0, 0, 0, 0, 0, 0, 0, 0])"
      ]
     },
     "execution_count": 94,
     "metadata": {},
     "output_type": "execute_result"
    }
   ],
   "source": [
    "#Fix the problem by using keyword arguments explicitly\n",
    "np.zeros(dtype = np.int, shape = 10)"
   ]
  },
  {
   "cell_type": "code",
   "execution_count": 96,
   "metadata": {
    "collapsed": false
   },
   "outputs": [
    {
     "ename": "TypeError",
     "evalue": "data type \",\" not understood",
     "output_type": "error",
     "traceback": [
      "\u001b[0;31m---------------------------------------------------------------------------\u001b[0m",
      "\u001b[0;31mTypeError\u001b[0m                                 Traceback (most recent call last)",
      "\u001b[0;32m<ipython-input-96-74ab72dba98b>\u001b[0m in \u001b[0;36m<module>\u001b[0;34m()\u001b[0m\n\u001b[1;32m      1\u001b[0m \u001b[1;31m#Delimiter isn't the seocnd argument, the function accepts \",\" as an argument\u001b[0m\u001b[1;33m\u001b[0m\u001b[1;33m\u001b[0m\u001b[0m\n\u001b[1;32m      2\u001b[0m \u001b[1;31m#But then can't operate on it as expected\u001b[0m\u001b[1;33m\u001b[0m\u001b[1;33m\u001b[0m\u001b[0m\n\u001b[0;32m----> 3\u001b[0;31m \u001b[0mnp\u001b[0m\u001b[1;33m.\u001b[0m\u001b[0mloadtxt\u001b[0m\u001b[1;33m(\u001b[0m\u001b[1;34m'barrow.temperature.csv'\u001b[0m\u001b[1;33m,\u001b[0m \u001b[1;34m','\u001b[0m\u001b[1;33m)\u001b[0m\u001b[1;33m\u001b[0m\u001b[0m\n\u001b[0m",
      "\u001b[0;32mC:\\Users\\Dana\\Anaconda2\\lib\\site-packages\\numpy\\lib\\npyio.pyc\u001b[0m in \u001b[0;36mloadtxt\u001b[0;34m(fname, dtype, comments, delimiter, converters, skiprows, usecols, unpack, ndmin)\u001b[0m\n\u001b[1;32m    967\u001b[0m     \u001b[1;32mtry\u001b[0m\u001b[1;33m:\u001b[0m\u001b[1;33m\u001b[0m\u001b[0m\n\u001b[1;32m    968\u001b[0m         \u001b[1;31m# Make sure we're dealing with a proper dtype\u001b[0m\u001b[1;33m\u001b[0m\u001b[1;33m\u001b[0m\u001b[0m\n\u001b[0;32m--> 969\u001b[0;31m         \u001b[0mdtype\u001b[0m \u001b[1;33m=\u001b[0m \u001b[0mnp\u001b[0m\u001b[1;33m.\u001b[0m\u001b[0mdtype\u001b[0m\u001b[1;33m(\u001b[0m\u001b[0mdtype\u001b[0m\u001b[1;33m)\u001b[0m\u001b[1;33m\u001b[0m\u001b[0m\n\u001b[0m\u001b[1;32m    970\u001b[0m         \u001b[0mdefconv\u001b[0m \u001b[1;33m=\u001b[0m \u001b[0m_getconv\u001b[0m\u001b[1;33m(\u001b[0m\u001b[0mdtype\u001b[0m\u001b[1;33m)\u001b[0m\u001b[1;33m\u001b[0m\u001b[0m\n\u001b[1;32m    971\u001b[0m \u001b[1;33m\u001b[0m\u001b[0m\n",
      "\u001b[0;31mTypeError\u001b[0m: data type \",\" not understood"
     ]
    }
   ],
   "source": [
    "#Delimiter isn't the seocnd argument, the function accepts \",\" as an argument\n",
    "#But then can't operate on it as expected \n",
    "np.loadtxt('barrow.temperature.csv', ',')"
   ]
  },
  {
   "cell_type": "code",
   "execution_count": 98,
   "metadata": {
    "collapsed": false
   },
   "outputs": [
    {
     "data": {
      "text/plain": [
       "array([[ 245.66  ,  247.52  ,  245.28  ,  256.32  ,  262.9   ,  272.46  ,\n",
       "         278.06  ,  275.51  ,  269.34  ,  261.68  ,  251.35  ,  242.52  ],\n",
       "       [ 248.12  ,  242.64  ,  252.04  ,  248.61  ,  262.84  ,  271.93  ,\n",
       "         277.45  ,  278.92  ,  274.4   ,  266.77  ,  258.69  ,  248.2   ],\n",
       "       [ 252.3   ,  240.39  ,  248.66  ,  255.41  ,  265.84  ,  274.64  ,\n",
       "         278.87  ,  278.26  ,  273.36  ,  265.77  ,  261.22  ,  248.8   ],\n",
       "       [ 239.52  ,  242.16  ,  243.65  ,  256.21  ,  266.    ,  274.64  ,\n",
       "         279.66  ,  279.17  ,  273.23  ,  264.89  ,  260.47  ,  249.39  ],\n",
       "       [ 244.95  ,  241.02  ,  244.75  ,  251.51  ,  262.25  ,  272.85  ,\n",
       "         278.78  ,  277.02  ,  270.84  ,  264.87  ,  259.14  ,  248.89  ],\n",
       "       [ 244.04  ,  242.96  ,  245.17  ,  255.92  ,  265.94  ,  275.58  ,\n",
       "         277.5   ,  275.5   ,  272.59  ,  261.36  ,  254.54  ,  245.16  ],\n",
       "       [ 245.15  ,  241.35  ,  249.29  ,  255.02  ,  264.12  ,  273.83  ,\n",
       "         277.92  ,  279.6   ,  273.92  ,  266.54  ,  256.88  ,  244.83  ],\n",
       "       [ 248.89  ,  240.27  ,  245.6   ,  253.41  ,  264.44  ,  272.96  ,\n",
       "         277.09  ,  274.26  ,  271.2   ,  260.74  ,  248.42  ,  246.11  ],\n",
       "       [ 244.43  ,  240.49  ,  246.82  ,  255.39  ,  266.63  ,  272.9   ,\n",
       "         277.25  ,  274.2   ,  272.48  ,  260.43  ,  249.28  ,  246.57  ],\n",
       "       [ 252.79  ,  242.63  ,  247.48  ,  258.35  ,  266.03  ,  274.71  ,\n",
       "         277.16  ,  278.55  ,  271.8   ,  265.78  ,  255.21  ,  243.86  ],\n",
       "       [ 247.12  ,  245.83  ,  249.23  ,  255.7   ,  265.03  ,  274.97  ,\n",
       "         277.51  ,  278.35  ,  273.96  ,  263.44  ,  255.64  ,  250.09  ],\n",
       "       [ 245.59  ,  250.75  ,  240.12  ,  253.26  ,  265.89  ,  274.27  ,\n",
       "         275.25  ,  275.97  ,  271.94  ,  263.74  ,  253.62  ,  243.95  ],\n",
       "       [ 244.29  ,  249.98  ,  248.36  ,  252.28  ,  267.14  ,  273.45  ,\n",
       "         276.63  ,  275.15  ,  269.89  ,  262.72  ,  251.06  ,  252.82  ],\n",
       "       [ 250.32  ,  241.28  ,  243.16  ,  251.37  ,  267.16  ,  274.29  ,\n",
       "         276.54  ,  275.49  ,  273.54  ,  262.95  ,  254.61  ,  244.49  ],\n",
       "       [ 252.23  ,  251.42  ,  247.37  ,  254.33  ,  264.13  ,  274.27  ,\n",
       "         277.91  ,  278.39  ,  271.66  ,  265.05  ,  256.49  ,  250.37  ],\n",
       "       [ 251.01  ,  246.49  ,  244.48  ,  256.79  ,  268.48  ,  273.48  ,\n",
       "         276.17  ,  275.96  ,  272.35  ,  262.42  ,  251.49  ,  253.72  ],\n",
       "       [ 244.77  ,  241.01  ,  242.21  ,  250.23  ,  264.22  ,  273.3   ,\n",
       "         276.61  ,  275.63  ,  271.4   ,  263.85  ,  254.92  ,  242.63  ],\n",
       "       [ 244.62  ,  240.12  ,  251.65  ,  256.26  ,  264.17  ,  272.55  ,\n",
       "         276.38  ,  275.97  ,  272.35  ,  260.26  ,  260.46  ,  247.79  ],\n",
       "       [ 245.2   ,  243.45  ,  242.63  ,  252.33  ,  264.26  ,  274.66  ,\n",
       "         276.67  ,  275.17  ,  273.01  ,  264.47  ,  257.25  ,  248.04  ],\n",
       "       [ 248.1   ,  245.61  ,  249.87  ,  257.78  ,  266.9   ,  274.25  ,\n",
       "         276.39  ,  275.76  ,  270.87  ,  262.69  ,  254.8   ,  250.74  ],\n",
       "       [ 249.26  ,  242.05  ,  248.97  ,  252.76  ,  266.36  ,  273.65  ,\n",
       "         278.7   ,  278.02  ,  272.49  ,  263.92  ,  253.8   ,  247.5   ],\n",
       "       [ 246.89  ,  244.36  ,  248.17  ,  256.93  ,  267.02  ,  274.51  ,\n",
       "         275.29  ,  273.09  ,  272.59  ,  265.6   ,  250.46  ,  252.78  ],\n",
       "       [ 246.45  ,  247.03  ,  246.63  ,  254.01  ,  265.85  ,  273.49  ,\n",
       "         276.41  ,  275.41  ,  269.49  ,  257.23  ,  254.26  ,  248.5   ],\n",
       "       [ 242.13  ,  240.63  ,  243.75  ,  252.48  ,  264.86  ,  275.15  ,\n",
       "         277.7   ,  274.59  ,  272.5   ,  262.79  ,  254.22  ,  248.6   ],\n",
       "       [ 245.1   ,  243.38  ,  242.77  ,  251.69  ,  265.32  ,  273.57  ,\n",
       "         278.84  ,  277.91  ,  271.99  ,  265.99  ,  255.61  ,  252.15  ],\n",
       "       [ 246.13  ,  247.34  ,  243.83  ,  254.08  ,  266.04  ,  273.8   ,\n",
       "         276.94  ,  276.58  ,  273.79  ,  264.65  ,  256.48  ,  251.51  ],\n",
       "       [ 247.74  ,  239.06  ,  244.38  ,  252.04  ,  265.73  ,  272.47  ,\n",
       "         276.98  ,  278.23  ,  273.87  ,  259.68  ,  251.41  ,  241.78  ],\n",
       "       [ 241.6   ,  246.71  ,  249.93  ,  252.84  ,  266.02  ,  273.88  ,\n",
       "         276.78  ,  275.41  ,  269.8   ,  259.93  ,  249.18  ,  243.94  ],\n",
       "       [ 245.59  ,  241.88  ,  246.59  ,  254.65  ,  265.36  ,  274.01  ,\n",
       "         276.99  ,  277.17  ,  273.7   ,  263.14  ,  257.85  ,  246.84  ],\n",
       "       [ 252.33  ,  248.12  ,  242.86  ,  252.26  ,  266.26  ,  274.62  ,\n",
       "         277.51  ,  279.74  ,  274.49  ,  265.64  ,  251.91  ,  249.33  ],\n",
       "       [ 252.5   ,  247.59  ,  248.82  ,  255.9   ,  265.09  ,  273.42  ,\n",
       "         277.74  ,  276.34  ,  274.01  ,  260.2   ,  258.06  ,  248.86  ],\n",
       "       [ 252.85  ,  242.06  ,  246.28  ,  254.76  ,  266.71  ,  273.58  ,\n",
       "         278.7   ,  279.6801,  274.62  ,  266.07  ,  260.85  ,  246.9   ],\n",
       "       [ 246.82  ,  250.27  ,  248.81  ,  253.95  ,  265.82  ,  275.47  ,\n",
       "         276.13  ,  274.99  ,  269.79  ,  264.34  ,  254.28  ,  245.07  ],\n",
       "       [ 255.14  ,  245.79  ,  248.75  ,  255.22  ,  268.94  ,  275.16  ,\n",
       "         278.04  ,  275.07  ,  270.55  ,  264.25  ,  254.67  ,  249.39  ],\n",
       "       [ 247.41  ,  250.2   ,  247.26  ,  253.82  ,  264.28  ,  274.26  ,\n",
       "         277.22  ,  276.23  ,  271.89  ,  259.64  ,  249.28  ,  248.69  ],\n",
       "       [ 243.    ,  245.26  ,  245.31  ,  254.97  ,  263.21  ,  273.89  ,\n",
       "         276.75  ,  275.42  ,  269.6   ,  258.88  ,  255.23  ,  253.84  ],\n",
       "       [ 245.9   ,  235.7   ,  244.44  ,  247.95  ,  263.35  ,  274.92  ,\n",
       "         277.67  ,  276.39  ,  273.82  ,  264.31  ,  249.53  ,  246.02  ],\n",
       "       [ 250.66  ,  244.58  ,  246.8   ,  248.61  ,  266.59  ,  274.56  ,\n",
       "         277.25  ,  276.27  ,  271.35  ,  260.75  ,  257.02  ,  251.27  ],\n",
       "       [ 245.47  ,  251.1   ,  244.93  ,  250.6   ,  265.36  ,  274.82  ,\n",
       "         279.27  ,  277.23  ,  275.31  ,  263.35  ,  254.18  ,  250.93  ],\n",
       "       [ 248.06  ,  245.35  ,  247.77  ,  250.9   ,  266.2   ,  274.56  ,\n",
       "         277.7   ,  277.75  ,  271.32  ,  267.57  ,  252.11  ,  249.45  ],\n",
       "       [ 249.63  ,  246.68  ,  247.49  ,  255.31  ,  265.54  ,  274.02  ,\n",
       "         277.73  ,  275.84  ,  271.62  ,  258.34  ,  248.56  ,  250.82  ],\n",
       "       [ 241.62  ,  257.48  ,  247.96  ,  258.22  ,  265.39  ,  275.42  ,\n",
       "         280.11  ,  280.18  ,  274.69  ,  264.81  ,  248.74  ,  250.75  ],\n",
       "       [ 243.12  ,  240.    ,  249.57  ,  259.39  ,  269.73  ,  276.15  ,\n",
       "         279.17  ,  276.97  ,  272.72  ,  264.47  ,  251.15  ,  246.73  ],\n",
       "       [ 247.28  ,  243.6   ,  245.3   ,  256.1   ,  269.67  ,  276.63  ,\n",
       "         277.5   ,  276.15  ,  272.6   ,  264.51  ,  250.08  ,  244.12  ],\n",
       "       [ 244.31  ,  245.26  ,  251.27  ,  258.2   ,  269.23  ,  277.28  ,\n",
       "         278.09  ,  274.28  ,  268.89  ,  259.18  ,  253.01  ,  249.2   ],\n",
       "       [ 248.05  ,  248.52  ,  248.25  ,  257.31  ,  266.78  ,  276.48  ,\n",
       "         281.76  ,  276.78  ,  272.97  ,  268.03  ,  257.33  ,  249.91  ],\n",
       "       [ 248.14  ,  248.22  ,  244.39  ,  258.36  ,  269.12  ,  276.29  ,\n",
       "         279.18  ,  276.61  ,  271.37  ,  257.02  ,  249.25  ,  246.96  ],\n",
       "       [ 247.81  ,  246.38  ,  245.45  ,  258.4   ,  269.41  ,  276.27  ,\n",
       "         279.36  ,  277.    ,  275.55  ,  262.83  ,  253.32  ,  248.82  ],\n",
       "       [ 248.38  ,  245.65  ,  251.99  ,  254.02  ,  271.74  ,  277.23  ,\n",
       "         277.65  ,  273.45  ,  271.1   ,  257.76  ,  256.4   ,  251.3   ],\n",
       "       [ 244.91  ,  247.23  ,  246.02  ,  256.88  ,  266.29  ,  276.01  ,\n",
       "         279.16  ,  279.34  ,  275.07  ,  264.47  ,  260.06  ,  247.69  ],\n",
       "       [ 245.19  ,  245.54  ,  253.27  ,  261.44  ,  268.26  ,  276.95  ,\n",
       "         281.2   ,  278.93  ,  275.8   ,  267.62  ,  259.2   ,  252.71  ],\n",
       "       [ 243.85  ,  244.22  ,  245.52  ,  253.71  ,  270.49  ,  276.88  ,\n",
       "         279.34  ,  278.36  ,  273.99  ,  264.52  ,  254.36  ,  245.63  ],\n",
       "       [ 246.86  ,  248.67  ,  247.19  ,  254.44  ,  263.16  ,  276.81  ,\n",
       "         278.43  ,  276.95  ,  272.99  ,  264.51  ,  256.15  ,  251.8   ],\n",
       "       [ 250.87  ,  252.82  ,  247.19  ,  256.52  ,  262.62  ,  275.2   ,\n",
       "         277.4   ,  276.    ,  273.79  ,  261.83  ,  255.56  ,  249.26  ],\n",
       "       [ 247.36  ,  246.03  ,  252.86  ,  255.58  ,  268.74  ,  274.61  ,\n",
       "         277.73  ,  276.2   ,  275.08  ,  268.29  ,  260.39  ,  254.52  ],\n",
       "       [ 249.51  ,  248.38  ,  248.76  ,  259.16  ,  267.28  ,  275.32  ,\n",
       "         278.29  ,  276.2   ,  273.09  ,  268.66  ,  257.18  ,  250.49  ],\n",
       "       [ 248.81  ,  244.36  ,  246.86  ,  256.96  ,  268.68  ,  277.54  ,\n",
       "         279.86  ,  279.97  ,  273.06  ,  267.07  ,  257.15  ,  250.49  ],\n",
       "       [ 250.03  ,  247.77  ,  251.23  ,  256.23  ,  268.59  ,  275.15  ,\n",
       "         277.72  ,  278.94  ,  274.42  ,  267.14  ,  253.75  ,  253.15  ],\n",
       "       [ 246.16  ,  250.86  ,  245.87  ,  253.31  ,  268.51  ,  275.84  ,\n",
       "         277.52  ,  276.19  ,  275.68  ,  269.29  ,  256.62  ,  253.05  ],\n",
       "       [ 247.26  ,  248.67  ,  245.21  ,  259.71  ,  265.85  ,  275.7401,\n",
       "         279.99  ,  279.82  ,  275.89  ,  266.91  ,  261.99  ,  253.9   ],\n",
       "       [ 246.28  ,  246.21  ,  246.88  ,  258.33  ,  267.85  ,  275.64  ,\n",
       "         277.85  ,  276.39  ,  274.12  ,  265.39  ,  256.85  ,  253.57  ],\n",
       "       [ 247.09  ,  246.44  ,  246.22  ,  256.26  ,  268.96  ,  275.03  ,\n",
       "         279.62  ,  277.92  ,  274.49  ,  268.55  ,  254.66  ,  253.4   ],\n",
       "       [ 245.53  ,  249.51  ,  248.98  ,  258.93  ,  267.35  ,  274.91  ,\n",
       "         278.52  ,  278.96  ,  275.55  ,  267.43  ,  260.76  ,  248.88  ],\n",
       "       [ 249.82  ,  250.2   ,  250.58  ,  254.86  ,  267.95  ,  275.15  ,\n",
       "         278.4   ,  277.98  ,  275.31  ,  267.61  ,  253.98  ,  250.52  ],\n",
       "       [ 242.19  ,  248.96  ,  243.16  ,  257.6   ,  266.93  ,  275.86  ,\n",
       "         279.16  ,  279.32  ,  274.23  ,  268.54  ,  256.51  ,  248.66  ],\n",
       "       [ 250.17  ,  245.43  ,  249.71  ,  254.56  ,  266.73  ,  277.18  ,\n",
       "         279.58  ,  277.69  ,  272.76  ,  269.18  ,  258.31  ,  252.66  ],\n",
       "       [ 256.26  ,  249.03  ,  250.96  ,  258.16  ,  267.62  ,  273.48  ,\n",
       "         276.79  ,  279.19  ,  273.85  ,  265.64  ,  260.18  ,  255.57  ],\n",
       "       [ 248.85  ,  252.09  ,  248.18  ,  257.83  ,  271.14  ,  276.61  ,\n",
       "         279.49  ,  276.57  ,  271.73  ,  267.68  ,  259.43  ,  250.4   ],\n",
       "       [ 256.61  ,  254.16  ,  250.8   ,  261.01  ,  270.44  ,  276.61  ,\n",
       "         279.02  ,  279.61  ,  273.73  ,  268.21  ,  256.45  ,  251.37  ]])"
      ]
     },
     "execution_count": 98,
     "metadata": {},
     "output_type": "execute_result"
    }
   ],
   "source": [
    "#Explicitly load arguments in different order with keyword arguments\n",
    "np.loadtxt(delimiter = ',' , fname = 'barrow.temperature.csv')"
   ]
  },
  {
   "cell_type": "code",
   "execution_count": 99,
   "metadata": {
    "collapsed": false
   },
   "outputs": [
    {
     "ename": "ValueError",
     "evalue": "invalid literal for float(): 248.12,242.64,252.04,248.61,262.84,271.93,277.45,278.92,274.4,266.77,258.69,248.2",
     "output_type": "error",
     "traceback": [
      "\u001b[0;31m---------------------------------------------------------------------------\u001b[0m",
      "\u001b[0;31mValueError\u001b[0m                                Traceback (most recent call last)",
      "\u001b[0;32m<ipython-input-99-6398a36f2864>\u001b[0m in \u001b[0;36m<module>\u001b[0;34m()\u001b[0m\n\u001b[0;32m----> 1\u001b[0;31m \u001b[0mnp\u001b[0m\u001b[1;33m.\u001b[0m\u001b[0mloadtxt\u001b[0m\u001b[1;33m(\u001b[0m\u001b[1;34m'barrow.temperature.csv'\u001b[0m\u001b[1;33m,\u001b[0m \u001b[0mskiprows\u001b[0m\u001b[1;33m=\u001b[0m\u001b[1;36m1\u001b[0m\u001b[1;33m)\u001b[0m\u001b[1;33m\u001b[0m\u001b[0m\n\u001b[0m",
      "\u001b[0;32mC:\\Users\\Dana\\Anaconda2\\lib\\site-packages\\numpy\\lib\\npyio.pyc\u001b[0m in \u001b[0;36mloadtxt\u001b[0;34m(fname, dtype, comments, delimiter, converters, skiprows, usecols, unpack, ndmin)\u001b[0m\n\u001b[1;32m   1022\u001b[0m \u001b[1;33m\u001b[0m\u001b[0m\n\u001b[1;32m   1023\u001b[0m             \u001b[1;31m# Convert each value according to its column and store\u001b[0m\u001b[1;33m\u001b[0m\u001b[1;33m\u001b[0m\u001b[0m\n\u001b[0;32m-> 1024\u001b[0;31m             \u001b[0mitems\u001b[0m \u001b[1;33m=\u001b[0m \u001b[1;33m[\u001b[0m\u001b[0mconv\u001b[0m\u001b[1;33m(\u001b[0m\u001b[0mval\u001b[0m\u001b[1;33m)\u001b[0m \u001b[1;32mfor\u001b[0m \u001b[1;33m(\u001b[0m\u001b[0mconv\u001b[0m\u001b[1;33m,\u001b[0m \u001b[0mval\u001b[0m\u001b[1;33m)\u001b[0m \u001b[1;32min\u001b[0m \u001b[0mzip\u001b[0m\u001b[1;33m(\u001b[0m\u001b[0mconverters\u001b[0m\u001b[1;33m,\u001b[0m \u001b[0mvals\u001b[0m\u001b[1;33m)\u001b[0m\u001b[1;33m]\u001b[0m\u001b[1;33m\u001b[0m\u001b[0m\n\u001b[0m\u001b[1;32m   1025\u001b[0m             \u001b[1;31m# Then pack it according to the dtype's nesting\u001b[0m\u001b[1;33m\u001b[0m\u001b[1;33m\u001b[0m\u001b[0m\n\u001b[1;32m   1026\u001b[0m             \u001b[0mitems\u001b[0m \u001b[1;33m=\u001b[0m \u001b[0mpack_items\u001b[0m\u001b[1;33m(\u001b[0m\u001b[0mitems\u001b[0m\u001b[1;33m,\u001b[0m \u001b[0mpacking\u001b[0m\u001b[1;33m)\u001b[0m\u001b[1;33m\u001b[0m\u001b[0m\n",
      "\u001b[0;32mC:\\Users\\Dana\\Anaconda2\\lib\\site-packages\\numpy\\lib\\npyio.pyc\u001b[0m in \u001b[0;36mfloatconv\u001b[0;34m(x)\u001b[0m\n\u001b[1;32m    723\u001b[0m         \u001b[1;32mif\u001b[0m \u001b[1;34mb'0x'\u001b[0m \u001b[1;32min\u001b[0m \u001b[0mx\u001b[0m\u001b[1;33m:\u001b[0m\u001b[1;33m\u001b[0m\u001b[0m\n\u001b[1;32m    724\u001b[0m             \u001b[1;32mreturn\u001b[0m \u001b[0mfloat\u001b[0m\u001b[1;33m.\u001b[0m\u001b[0mfromhex\u001b[0m\u001b[1;33m(\u001b[0m\u001b[0masstr\u001b[0m\u001b[1;33m(\u001b[0m\u001b[0mx\u001b[0m\u001b[1;33m)\u001b[0m\u001b[1;33m)\u001b[0m\u001b[1;33m\u001b[0m\u001b[0m\n\u001b[0;32m--> 725\u001b[0;31m         \u001b[1;32mreturn\u001b[0m \u001b[0mfloat\u001b[0m\u001b[1;33m(\u001b[0m\u001b[0mx\u001b[0m\u001b[1;33m)\u001b[0m\u001b[1;33m\u001b[0m\u001b[0m\n\u001b[0m\u001b[1;32m    726\u001b[0m \u001b[1;33m\u001b[0m\u001b[0m\n\u001b[1;32m    727\u001b[0m     \u001b[0mtyp\u001b[0m \u001b[1;33m=\u001b[0m \u001b[0mdtype\u001b[0m\u001b[1;33m.\u001b[0m\u001b[0mtype\u001b[0m\u001b[1;33m\u001b[0m\u001b[0m\n",
      "\u001b[0;31mValueError\u001b[0m: invalid literal for float(): 248.12,242.64,252.04,248.61,262.84,271.93,277.45,278.92,274.4,266.77,258.69,248.2"
     ]
    }
   ],
   "source": [
    "np.loadtxt('barrow.temperature.csv', skiprows=1)"
   ]
  },
  {
   "cell_type": "code",
   "execution_count": 100,
   "metadata": {
    "collapsed": true
   },
   "outputs": [],
   "source": [
    "# Remember that optional (default) arguments must come after required args\n",
    "# A somewhat counterintuitive example\n",
    "def power(exponent, base = 2):\n",
    "    return base**exponent"
   ]
  },
  {
   "cell_type": "markdown",
   "metadata": {},
   "source": [
    "###### Documenting functions"
   ]
  },
  {
   "cell_type": "code",
   "execution_count": null,
   "metadata": {
    "collapsed": true
   },
   "outputs": [],
   "source": [
    "#Note that when you write a docstring it becomes accessible through \n",
    "#standard python help, comments won't be visible unless someone reads source code\n",
    "\n",
    "def temperature_anomaly (temp_array, long_term_avg = 'mean' ):\n",
    "    '''This is a docscreen. Calculates the interanual temperature anomalies. \n",
    "    Subtracts the long term mean by default but another long-term average\n",
    "    can be provided as the 'long term avg' argument.\n",
    "    \n",
    "    Arguments: \n",
    "        temp_array <np.array> The array of temperature values'''\n",
    "    \n",
    "    #Test to check if someone supplied a long term average\n",
    "    if long_term_avg == 'mean':\n",
    "        return temp_array.mean(axis = 1) - long_term.mean()\n",
    "    \n",
    "    else:\n",
    "        return temp_array.mean(axis = 1) - long_term_avg"
   ]
  },
  {
   "cell_type": "markdown",
   "metadata": {},
   "source": [
    "##### Challenge questions"
   ]
  },
  {
   "cell_type": "code",
   "execution_count": 118,
   "metadata": {
    "collapsed": false
   },
   "outputs": [],
   "source": [
    "# A function called fences that takes an input character string \n",
    "# and surrounds it on both sides with another string\n",
    "def fences(string, char = None):\n",
    "    if char == '|':\n",
    "        return '|' + string + '|'\n",
    "        \n",
    "    return '@' + string + '@'"
   ]
  },
  {
   "cell_type": "code",
   "execution_count": 119,
   "metadata": {
    "collapsed": false
   },
   "outputs": [],
   "source": [
    "string = 'sheep'"
   ]
  },
  {
   "cell_type": "code",
   "execution_count": 120,
   "metadata": {
    "collapsed": false
   },
   "outputs": [
    {
     "data": {
      "text/plain": [
       "'@sheep@'"
      ]
     },
     "execution_count": 120,
     "metadata": {},
     "output_type": "execute_result"
    }
   ],
   "source": [
    "fences (string)"
   ]
  },
  {
   "cell_type": "code",
   "execution_count": null,
   "metadata": {
    "collapsed": true
   },
   "outputs": [],
   "source": [
    "# A function called rescale that takes an array and returns a corresponding array\n",
    "# of values scaled to lie in the range 0.0 to 1.0."
   ]
  },
  {
   "cell_type": "markdown",
   "metadata": {},
   "source": [
    "###### Understanding and handling errors"
   ]
  },
  {
   "cell_type": "code",
   "execution_count": 122,
   "metadata": {
    "collapsed": false
   },
   "outputs": [
    {
     "ename": "ValueError",
     "evalue": "endog and exog matrices are different sizes",
     "output_type": "error",
     "traceback": [
      "\u001b[0;31m---------------------------------------------------------------------------\u001b[0m",
      "\u001b[0;31mValueError\u001b[0m                                Traceback (most recent call last)",
      "\u001b[0;32m<ipython-input-122-694a5528f124>\u001b[0m in \u001b[0;36m<module>\u001b[0;34m()\u001b[0m\n\u001b[1;32m     20\u001b[0m \u001b[0mdata\u001b[0m \u001b[1;33m=\u001b[0m \u001b[0mnp\u001b[0m\u001b[1;33m.\u001b[0m\u001b[0mloadtxt\u001b[0m\u001b[1;33m(\u001b[0m\u001b[1;34m'wvu.temperature.csv'\u001b[0m\u001b[1;33m,\u001b[0m \u001b[0mdelimiter\u001b[0m \u001b[1;33m=\u001b[0m \u001b[1;34m','\u001b[0m\u001b[1;33m)\u001b[0m\u001b[1;33m\u001b[0m\u001b[0m\n\u001b[1;32m     21\u001b[0m \u001b[1;33m\u001b[0m\u001b[0m\n\u001b[0;32m---> 22\u001b[0;31m \u001b[0mcalc_best_fit_line\u001b[0m\u001b[1;33m(\u001b[0m\u001b[0mtemperature_anomaly\u001b[0m\u001b[1;33m(\u001b[0m\u001b[0mdata\u001b[0m\u001b[1;33m)\u001b[0m\u001b[1;33m)\u001b[0m\u001b[1;33m\u001b[0m\u001b[0m\n\u001b[0m\u001b[1;32m     23\u001b[0m \u001b[1;33m\u001b[0m\u001b[0m\n",
      "\u001b[0;32m<ipython-input-122-694a5528f124>\u001b[0m in \u001b[0;36mcalc_best_fit_line\u001b[0;34m(y_data, x_data)\u001b[0m\n\u001b[1;32m     11\u001b[0m \u001b[1;33m\u001b[0m\u001b[0m\n\u001b[1;32m     12\u001b[0m     \u001b[1;31m# Fit the temperature anomalies to a simple time series\u001b[0m\u001b[1;33m\u001b[0m\u001b[1;33m\u001b[0m\u001b[0m\n\u001b[0;32m---> 13\u001b[0;31m     \u001b[0mresults\u001b[0m \u001b[1;33m=\u001b[0m \u001b[0msm\u001b[0m\u001b[1;33m.\u001b[0m\u001b[0mOLS\u001b[0m\u001b[1;33m(\u001b[0m\u001b[0my_data\u001b[0m\u001b[1;33m,\u001b[0m \u001b[0mx_data\u001b[0m\u001b[1;33m)\u001b[0m\u001b[1;33m.\u001b[0m\u001b[0mfit\u001b[0m\u001b[1;33m(\u001b[0m\u001b[1;33m)\u001b[0m\u001b[1;33m\u001b[0m\u001b[0m\n\u001b[0m\u001b[1;32m     14\u001b[0m     \u001b[1;31m#Classes are in upper case letters in Python\u001b[0m\u001b[1;33m\u001b[0m\u001b[1;33m\u001b[0m\u001b[0m\n\u001b[1;32m     15\u001b[0m \u001b[1;33m\u001b[0m\u001b[0m\n",
      "\u001b[0;32mC:\\Users\\Dana\\Anaconda2\\lib\\site-packages\\statsmodels\\regression\\linear_model.pyc\u001b[0m in \u001b[0;36m__init__\u001b[0;34m(self, endog, exog, missing, hasconst, **kwargs)\u001b[0m\n\u001b[1;32m    629\u001b[0m                  **kwargs):\n\u001b[1;32m    630\u001b[0m         super(OLS, self).__init__(endog, exog, missing=missing,\n\u001b[0;32m--> 631\u001b[0;31m                                   hasconst=hasconst, **kwargs)\n\u001b[0m\u001b[1;32m    632\u001b[0m         \u001b[1;32mif\u001b[0m \u001b[1;34m\"weights\"\u001b[0m \u001b[1;32min\u001b[0m \u001b[0mself\u001b[0m\u001b[1;33m.\u001b[0m\u001b[0m_init_keys\u001b[0m\u001b[1;33m:\u001b[0m\u001b[1;33m\u001b[0m\u001b[0m\n\u001b[1;32m    633\u001b[0m             \u001b[0mself\u001b[0m\u001b[1;33m.\u001b[0m\u001b[0m_init_keys\u001b[0m\u001b[1;33m.\u001b[0m\u001b[0mremove\u001b[0m\u001b[1;33m(\u001b[0m\u001b[1;34m\"weights\"\u001b[0m\u001b[1;33m)\u001b[0m\u001b[1;33m\u001b[0m\u001b[0m\n",
      "\u001b[0;32mC:\\Users\\Dana\\Anaconda2\\lib\\site-packages\\statsmodels\\regression\\linear_model.pyc\u001b[0m in \u001b[0;36m__init__\u001b[0;34m(self, endog, exog, weights, missing, hasconst, **kwargs)\u001b[0m\n\u001b[1;32m    524\u001b[0m             \u001b[0mweights\u001b[0m \u001b[1;33m=\u001b[0m \u001b[0mweights\u001b[0m\u001b[1;33m.\u001b[0m\u001b[0msqueeze\u001b[0m\u001b[1;33m(\u001b[0m\u001b[1;33m)\u001b[0m\u001b[1;33m\u001b[0m\u001b[0m\n\u001b[1;32m    525\u001b[0m         super(WLS, self).__init__(endog, exog, missing=missing,\n\u001b[0;32m--> 526\u001b[0;31m                                   weights=weights, hasconst=hasconst, **kwargs)\n\u001b[0m\u001b[1;32m    527\u001b[0m         \u001b[0mnobs\u001b[0m \u001b[1;33m=\u001b[0m \u001b[0mself\u001b[0m\u001b[1;33m.\u001b[0m\u001b[0mexog\u001b[0m\u001b[1;33m.\u001b[0m\u001b[0mshape\u001b[0m\u001b[1;33m[\u001b[0m\u001b[1;36m0\u001b[0m\u001b[1;33m]\u001b[0m\u001b[1;33m\u001b[0m\u001b[0m\n\u001b[1;32m    528\u001b[0m         \u001b[0mweights\u001b[0m \u001b[1;33m=\u001b[0m \u001b[0mself\u001b[0m\u001b[1;33m.\u001b[0m\u001b[0mweights\u001b[0m\u001b[1;33m\u001b[0m\u001b[0m\n",
      "\u001b[0;32mC:\\Users\\Dana\\Anaconda2\\lib\\site-packages\\statsmodels\\regression\\linear_model.pyc\u001b[0m in \u001b[0;36m__init__\u001b[0;34m(self, endog, exog, **kwargs)\u001b[0m\n\u001b[1;32m     93\u001b[0m     \"\"\"\n\u001b[1;32m     94\u001b[0m     \u001b[1;32mdef\u001b[0m \u001b[0m__init__\u001b[0m\u001b[1;33m(\u001b[0m\u001b[0mself\u001b[0m\u001b[1;33m,\u001b[0m \u001b[0mendog\u001b[0m\u001b[1;33m,\u001b[0m \u001b[0mexog\u001b[0m\u001b[1;33m,\u001b[0m \u001b[1;33m**\u001b[0m\u001b[0mkwargs\u001b[0m\u001b[1;33m)\u001b[0m\u001b[1;33m:\u001b[0m\u001b[1;33m\u001b[0m\u001b[0m\n\u001b[0;32m---> 95\u001b[0;31m         \u001b[0msuper\u001b[0m\u001b[1;33m(\u001b[0m\u001b[0mRegressionModel\u001b[0m\u001b[1;33m,\u001b[0m \u001b[0mself\u001b[0m\u001b[1;33m)\u001b[0m\u001b[1;33m.\u001b[0m\u001b[0m__init__\u001b[0m\u001b[1;33m(\u001b[0m\u001b[0mendog\u001b[0m\u001b[1;33m,\u001b[0m \u001b[0mexog\u001b[0m\u001b[1;33m,\u001b[0m \u001b[1;33m**\u001b[0m\u001b[0mkwargs\u001b[0m\u001b[1;33m)\u001b[0m\u001b[1;33m\u001b[0m\u001b[0m\n\u001b[0m\u001b[1;32m     96\u001b[0m         \u001b[0mself\u001b[0m\u001b[1;33m.\u001b[0m\u001b[0m_data_attr\u001b[0m\u001b[1;33m.\u001b[0m\u001b[0mextend\u001b[0m\u001b[1;33m(\u001b[0m\u001b[1;33m[\u001b[0m\u001b[1;34m'pinv_wexog'\u001b[0m\u001b[1;33m,\u001b[0m \u001b[1;34m'wendog'\u001b[0m\u001b[1;33m,\u001b[0m \u001b[1;34m'wexog'\u001b[0m\u001b[1;33m,\u001b[0m \u001b[1;34m'weights'\u001b[0m\u001b[1;33m]\u001b[0m\u001b[1;33m)\u001b[0m\u001b[1;33m\u001b[0m\u001b[0m\n\u001b[1;32m     97\u001b[0m \u001b[1;33m\u001b[0m\u001b[0m\n",
      "\u001b[0;32mC:\\Users\\Dana\\Anaconda2\\lib\\site-packages\\statsmodels\\base\\model.pyc\u001b[0m in \u001b[0;36m__init__\u001b[0;34m(self, endog, exog, **kwargs)\u001b[0m\n\u001b[1;32m    210\u001b[0m \u001b[1;33m\u001b[0m\u001b[0m\n\u001b[1;32m    211\u001b[0m     \u001b[1;32mdef\u001b[0m \u001b[0m__init__\u001b[0m\u001b[1;33m(\u001b[0m\u001b[0mself\u001b[0m\u001b[1;33m,\u001b[0m \u001b[0mendog\u001b[0m\u001b[1;33m,\u001b[0m \u001b[0mexog\u001b[0m\u001b[1;33m=\u001b[0m\u001b[0mNone\u001b[0m\u001b[1;33m,\u001b[0m \u001b[1;33m**\u001b[0m\u001b[0mkwargs\u001b[0m\u001b[1;33m)\u001b[0m\u001b[1;33m:\u001b[0m\u001b[1;33m\u001b[0m\u001b[0m\n\u001b[0;32m--> 212\u001b[0;31m         \u001b[0msuper\u001b[0m\u001b[1;33m(\u001b[0m\u001b[0mLikelihoodModel\u001b[0m\u001b[1;33m,\u001b[0m \u001b[0mself\u001b[0m\u001b[1;33m)\u001b[0m\u001b[1;33m.\u001b[0m\u001b[0m__init__\u001b[0m\u001b[1;33m(\u001b[0m\u001b[0mendog\u001b[0m\u001b[1;33m,\u001b[0m \u001b[0mexog\u001b[0m\u001b[1;33m,\u001b[0m \u001b[1;33m**\u001b[0m\u001b[0mkwargs\u001b[0m\u001b[1;33m)\u001b[0m\u001b[1;33m\u001b[0m\u001b[0m\n\u001b[0m\u001b[1;32m    213\u001b[0m         \u001b[0mself\u001b[0m\u001b[1;33m.\u001b[0m\u001b[0minitialize\u001b[0m\u001b[1;33m(\u001b[0m\u001b[1;33m)\u001b[0m\u001b[1;33m\u001b[0m\u001b[0m\n\u001b[1;32m    214\u001b[0m \u001b[1;33m\u001b[0m\u001b[0m\n",
      "\u001b[0;32mC:\\Users\\Dana\\Anaconda2\\lib\\site-packages\\statsmodels\\base\\model.pyc\u001b[0m in \u001b[0;36m__init__\u001b[0;34m(self, endog, exog, **kwargs)\u001b[0m\n\u001b[1;32m     61\u001b[0m         \u001b[0mhasconst\u001b[0m \u001b[1;33m=\u001b[0m \u001b[0mkwargs\u001b[0m\u001b[1;33m.\u001b[0m\u001b[0mpop\u001b[0m\u001b[1;33m(\u001b[0m\u001b[1;34m'hasconst'\u001b[0m\u001b[1;33m,\u001b[0m \u001b[0mNone\u001b[0m\u001b[1;33m)\u001b[0m\u001b[1;33m\u001b[0m\u001b[0m\n\u001b[1;32m     62\u001b[0m         self.data = self._handle_data(endog, exog, missing, hasconst,\n\u001b[0;32m---> 63\u001b[0;31m                                       **kwargs)\n\u001b[0m\u001b[1;32m     64\u001b[0m         \u001b[0mself\u001b[0m\u001b[1;33m.\u001b[0m\u001b[0mk_constant\u001b[0m \u001b[1;33m=\u001b[0m \u001b[0mself\u001b[0m\u001b[1;33m.\u001b[0m\u001b[0mdata\u001b[0m\u001b[1;33m.\u001b[0m\u001b[0mk_constant\u001b[0m\u001b[1;33m\u001b[0m\u001b[0m\n\u001b[1;32m     65\u001b[0m         \u001b[0mself\u001b[0m\u001b[1;33m.\u001b[0m\u001b[0mexog\u001b[0m \u001b[1;33m=\u001b[0m \u001b[0mself\u001b[0m\u001b[1;33m.\u001b[0m\u001b[0mdata\u001b[0m\u001b[1;33m.\u001b[0m\u001b[0mexog\u001b[0m\u001b[1;33m\u001b[0m\u001b[0m\n",
      "\u001b[0;32mC:\\Users\\Dana\\Anaconda2\\lib\\site-packages\\statsmodels\\base\\model.pyc\u001b[0m in \u001b[0;36m_handle_data\u001b[0;34m(self, endog, exog, missing, hasconst, **kwargs)\u001b[0m\n\u001b[1;32m     86\u001b[0m \u001b[1;33m\u001b[0m\u001b[0m\n\u001b[1;32m     87\u001b[0m     \u001b[1;32mdef\u001b[0m \u001b[0m_handle_data\u001b[0m\u001b[1;33m(\u001b[0m\u001b[0mself\u001b[0m\u001b[1;33m,\u001b[0m \u001b[0mendog\u001b[0m\u001b[1;33m,\u001b[0m \u001b[0mexog\u001b[0m\u001b[1;33m,\u001b[0m \u001b[0mmissing\u001b[0m\u001b[1;33m,\u001b[0m \u001b[0mhasconst\u001b[0m\u001b[1;33m,\u001b[0m \u001b[1;33m**\u001b[0m\u001b[0mkwargs\u001b[0m\u001b[1;33m)\u001b[0m\u001b[1;33m:\u001b[0m\u001b[1;33m\u001b[0m\u001b[0m\n\u001b[0;32m---> 88\u001b[0;31m         \u001b[0mdata\u001b[0m \u001b[1;33m=\u001b[0m \u001b[0mhandle_data\u001b[0m\u001b[1;33m(\u001b[0m\u001b[0mendog\u001b[0m\u001b[1;33m,\u001b[0m \u001b[0mexog\u001b[0m\u001b[1;33m,\u001b[0m \u001b[0mmissing\u001b[0m\u001b[1;33m,\u001b[0m \u001b[0mhasconst\u001b[0m\u001b[1;33m,\u001b[0m \u001b[1;33m**\u001b[0m\u001b[0mkwargs\u001b[0m\u001b[1;33m)\u001b[0m\u001b[1;33m\u001b[0m\u001b[0m\n\u001b[0m\u001b[1;32m     89\u001b[0m         \u001b[1;31m# kwargs arrays could have changed, easier to just attach here\u001b[0m\u001b[1;33m\u001b[0m\u001b[1;33m\u001b[0m\u001b[0m\n\u001b[1;32m     90\u001b[0m         \u001b[1;32mfor\u001b[0m \u001b[0mkey\u001b[0m \u001b[1;32min\u001b[0m \u001b[0mkwargs\u001b[0m\u001b[1;33m:\u001b[0m\u001b[1;33m\u001b[0m\u001b[0m\n",
      "\u001b[0;32mC:\\Users\\Dana\\Anaconda2\\lib\\site-packages\\statsmodels\\base\\data.pyc\u001b[0m in \u001b[0;36mhandle_data\u001b[0;34m(endog, exog, missing, hasconst, **kwargs)\u001b[0m\n\u001b[1;32m    628\u001b[0m     \u001b[0mklass\u001b[0m \u001b[1;33m=\u001b[0m \u001b[0mhandle_data_class_factory\u001b[0m\u001b[1;33m(\u001b[0m\u001b[0mendog\u001b[0m\u001b[1;33m,\u001b[0m \u001b[0mexog\u001b[0m\u001b[1;33m)\u001b[0m\u001b[1;33m\u001b[0m\u001b[0m\n\u001b[1;32m    629\u001b[0m     return klass(endog, exog=exog, missing=missing, hasconst=hasconst,\n\u001b[0;32m--> 630\u001b[0;31m                  **kwargs)\n\u001b[0m",
      "\u001b[0;32mC:\\Users\\Dana\\Anaconda2\\lib\\site-packages\\statsmodels\\base\\data.pyc\u001b[0m in \u001b[0;36m__init__\u001b[0;34m(self, endog, exog, missing, hasconst, **kwargs)\u001b[0m\n\u001b[1;32m     78\u001b[0m         \u001b[1;31m# this has side-effects, attaches k_constant and const_idx\u001b[0m\u001b[1;33m\u001b[0m\u001b[1;33m\u001b[0m\u001b[0m\n\u001b[1;32m     79\u001b[0m         \u001b[0mself\u001b[0m\u001b[1;33m.\u001b[0m\u001b[0m_handle_constant\u001b[0m\u001b[1;33m(\u001b[0m\u001b[0mhasconst\u001b[0m\u001b[1;33m)\u001b[0m\u001b[1;33m\u001b[0m\u001b[0m\n\u001b[0;32m---> 80\u001b[0;31m         \u001b[0mself\u001b[0m\u001b[1;33m.\u001b[0m\u001b[0m_check_integrity\u001b[0m\u001b[1;33m(\u001b[0m\u001b[1;33m)\u001b[0m\u001b[1;33m\u001b[0m\u001b[0m\n\u001b[0m\u001b[1;32m     81\u001b[0m         \u001b[0mself\u001b[0m\u001b[1;33m.\u001b[0m\u001b[0m_cache\u001b[0m \u001b[1;33m=\u001b[0m \u001b[0mresettable_cache\u001b[0m\u001b[1;33m(\u001b[0m\u001b[1;33m)\u001b[0m\u001b[1;33m\u001b[0m\u001b[0m\n\u001b[1;32m     82\u001b[0m \u001b[1;33m\u001b[0m\u001b[0m\n",
      "\u001b[0;32mC:\\Users\\Dana\\Anaconda2\\lib\\site-packages\\statsmodels\\base\\data.pyc\u001b[0m in \u001b[0;36m_check_integrity\u001b[0;34m(self)\u001b[0m\n\u001b[1;32m    401\u001b[0m         \u001b[1;32mif\u001b[0m \u001b[0mself\u001b[0m\u001b[1;33m.\u001b[0m\u001b[0mexog\u001b[0m \u001b[1;32mis\u001b[0m \u001b[1;32mnot\u001b[0m \u001b[0mNone\u001b[0m\u001b[1;33m:\u001b[0m\u001b[1;33m\u001b[0m\u001b[0m\n\u001b[1;32m    402\u001b[0m             \u001b[1;32mif\u001b[0m \u001b[0mlen\u001b[0m\u001b[1;33m(\u001b[0m\u001b[0mself\u001b[0m\u001b[1;33m.\u001b[0m\u001b[0mexog\u001b[0m\u001b[1;33m)\u001b[0m \u001b[1;33m!=\u001b[0m \u001b[0mlen\u001b[0m\u001b[1;33m(\u001b[0m\u001b[0mself\u001b[0m\u001b[1;33m.\u001b[0m\u001b[0mendog\u001b[0m\u001b[1;33m)\u001b[0m\u001b[1;33m:\u001b[0m\u001b[1;33m\u001b[0m\u001b[0m\n\u001b[0;32m--> 403\u001b[0;31m                 \u001b[1;32mraise\u001b[0m \u001b[0mValueError\u001b[0m\u001b[1;33m(\u001b[0m\u001b[1;34m\"endog and exog matrices are different sizes\"\u001b[0m\u001b[1;33m)\u001b[0m\u001b[1;33m\u001b[0m\u001b[0m\n\u001b[0m\u001b[1;32m    404\u001b[0m \u001b[1;33m\u001b[0m\u001b[0m\n\u001b[1;32m    405\u001b[0m     \u001b[1;32mdef\u001b[0m \u001b[0mwrap_output\u001b[0m\u001b[1;33m(\u001b[0m\u001b[0mself\u001b[0m\u001b[1;33m,\u001b[0m \u001b[0mobj\u001b[0m\u001b[1;33m,\u001b[0m \u001b[0mhow\u001b[0m\u001b[1;33m=\u001b[0m\u001b[1;34m'columns'\u001b[0m\u001b[1;33m,\u001b[0m \u001b[0mnames\u001b[0m\u001b[1;33m=\u001b[0m\u001b[0mNone\u001b[0m\u001b[1;33m)\u001b[0m\u001b[1;33m:\u001b[0m\u001b[1;33m\u001b[0m\u001b[0m\n",
      "\u001b[0;31mValueError\u001b[0m: endog and exog matrices are different sizes"
     ]
    }
   ],
   "source": [
    "import statsmodels.api as sm\n",
    "\n",
    "def calc_best_fit_line(y_data, x_data = np.arange(1948, 2016)):\n",
    "    '''\n",
    "    Calculates a line of best fit through the `y_data` based\n",
    "    on the provided `x_data`.\n",
    "    '''\n",
    "\n",
    "    # Add a constant (the intercept term)\n",
    "    x_data = sm.add_constant(x_data)\n",
    "\n",
    "    # Fit the temperature anomalies to a simple time series\n",
    "    results = sm.OLS(y_data, x_data).fit() \n",
    "    #Classes are in upper case letters in Python\n",
    "    \n",
    "    return results.params\n",
    "\n",
    "\n",
    "# Load the data\n",
    "data = np.loadtxt('wvu.temperature.csv', delimiter = ',')\n",
    "\n",
    "#Command that will throw an error\n",
    "calc_best_fit_line(temperature_anomaly(data))\n",
    "    "
   ]
  },
  {
   "cell_type": "code",
   "execution_count": 124,
   "metadata": {
    "collapsed": false
   },
   "outputs": [
    {
     "name": "stdout",
     "output_type": "stream",
     "text": [
      "('y_data.shape:', (69L,))\n",
      "('x_data.shape:', (69L, 2L))\n"
     ]
    },
    {
     "data": {
      "text/plain": [
       "array([ -1.92705448e+01,   9.72277737e-03])"
      ]
     },
     "execution_count": 124,
     "metadata": {},
     "output_type": "execute_result"
    }
   ],
   "source": [
    "#Okay, so it looks like the x and y variables might be different lengths\n",
    "\n",
    "import statsmodels.api as sm\n",
    "\n",
    "def calc_best_fit_line(y_data, x_data = np.arange(1948, 2017)):\n",
    "    '''\n",
    "    Calculates a line of best fit through the `y_data` based\n",
    "    on the provided `x_data`.\n",
    "    '''\n",
    "\n",
    "    # Add a constant (the intercept term)\n",
    "    x_data = sm.add_constant(x_data)\n",
    "    \n",
    "    print('y_data.shape:', y_data.shape)\n",
    "    print('x_data.shape:', x_data.shape)\n",
    "\n",
    "    # Fit the temperature anomalies to a simple time series\n",
    "    results = sm.OLS(y_data, x_data).fit() \n",
    "    #Classes are in upper case letters in Python\n",
    "    \n",
    "    return results.params\n",
    "\n",
    "\n",
    "# Load the data\n",
    "data = np.loadtxt('wvu.temperature.csv', delimiter = ',')\n",
    "\n",
    "#Command that will throw an error\n",
    "calc_best_fit_line(temperature_anomaly(data))"
   ]
  },
  {
   "cell_type": "code",
   "execution_count": null,
   "metadata": {
    "collapsed": true
   },
   "outputs": [],
   "source": []
  }
 ],
 "metadata": {
  "anaconda-cloud": {},
  "kernelspec": {
   "display_name": "Python [default]",
   "language": "python",
   "name": "python2"
  },
  "language_info": {
   "codemirror_mode": {
    "name": "ipython",
    "version": 2
   },
   "file_extension": ".py",
   "mimetype": "text/x-python",
   "name": "python",
   "nbconvert_exporter": "python",
   "pygments_lexer": "ipython2",
   "version": "2.7.12"
  }
 },
 "nbformat": 4,
 "nbformat_minor": 1
}
